{
 "cells": [
  {
   "cell_type": "markdown",
   "metadata": {},
   "source": [
    "# Prime Numbers"
   ]
  },
  {
   "cell_type": "markdown",
   "metadata": {},
   "source": [
    "## Introduction"
   ]
  },
  {
   "cell_type": "markdown",
   "metadata": {},
   "source": [
    "A prime number is a positive integer that is only divisible by 1 and itself, for example $(2,3,5,7,11...)$. A positive integer is either a prime or a composite number. An integer that can be factored into smaller integers is called a composite number. \n",
    "\n",
    "For example: $4 = 2 \\times 2, 6 = 2 \\times 3, 8 = 2 \\times 2 \\times 2 , 9 = 3 \\times 3 \\times 3...$ \n",
    " \n",
    "Mathematicians do not consider 0 and 1 to be prime numbers because their only factors are themselves and prime numbers must have 2 factors. 1 is neither a prime or composite number, it is called a unit because of it's multiplicative identity $(1\\times a = a \\times 1 = a$ for all numbers a)\n",
    "\n",
    "In about 300 B.C Euclid published a book called \"Elements\" which proved several results about prime numbers and proved  the fundemental theorem of arithmetic which shows that prime numbers are the building blocks of positive integers: every positive integer greater than one can be expressed uniquely as a product of primes in one and only one way, except for the order of the factors. \n",
    " \n",
    "Primes numbers are central to the number theory; they were first studied because of their properties of factorization and throughout time developed to become key to many applications. Prime numbers were essential in the revolution of the internet because they are used for a variety of encryption methods to keep transactions safe. We have developed algorithms that factor numebers into primes, but even the world's most advanced super-computers will take overly large amounts of time to factor down 500-digit numbers into 2 specific smaller primes since there are infinite numbers that can be factored down into infinite prime numbers. So, there is a functional limit to the size of the numbers we can factor into primes, and this fact is extremely essential to modern computer security. Anything that computers can easily do without being able to easily undo is useful for develping cyber security. Modern encryption algorithms use the facts that we can easily multiply two larger primes numbers to get an even larger primes number but no computer can quickly figure out specifically which two prime numbers were multiplied to make the even larger prime number. A network security company called RSA put out a factoring challenege of a 232-digit number proving that it is nearly impposible to find out which factors were used in the encryption. Security standards have improved to 1024-bit (309 digits) encryption to ensure that cyber security is completely unbreakable. Thanks to the phenomenon of prime numbers we can securely store our credit card information and other important data without the fear of being hacked. \n",
    "\n",
    "*source 1 \n",
    "*source 2"
   ]
  },
  {
   "cell_type": "markdown",
   "metadata": {},
   "source": [
    "## Part 1"
   ]
  },
  {
   "cell_type": "markdown",
   "metadata": {},
   "source": [
    "The objective of this section is to produce two functions:\n",
    "\n",
    "ListPrime: which accepts an integer n as input and returns all the prime numbers smaller than n\n",
    "\n",
    "nPrimes: which accepts an integer n as input and returns the first n prime numbers\n",
    "\n",
    "In order to create these functions it is necessary to write a function CheckPrime which accepts an integer n as input and determines whether n is a prime or not. CheckPrime is essential to this problem because it is the root of the ListPrime and nPrimes functions. Both functions call upon CheckPrime to report prime numbers and and each function organizes the required amount of prime numbers in the desired fashion to solve the tasks. \n",
    "\n",
    "CheckPrime: Assign 'out' to specific values that correspond to whether the input is 1: A prime number | 0: A composite number | -1:Not an eligible number. \n",
    "\n",
    "Allow the user to input an integer n. Initially assume whatever input is given is a prime number, so we assign out=1 then proceed by checking if the number is eligible. Prime numbers range between 2 and infinity, therefore any input that is less than 2 is not eligible. The if statement is used to check a condition and if the condition is true, we run next section of code nested within the if statement. So, if $(n<2)$ then we assign out=-1 and return the output to the user since the number is not eligible and there is no need to execute the rest of the code.\n",
    "\n",
    "If the input is an eligible number we procced to round the input n to the nearest integer to make sure it does not contain any floating numbers which may not be interpred properly by the rest of the code since python does not always consider a floating number the same way as an integer (example: 2 may not be equal to 2.0). Next we proceed to enter a for loop which loops over all numbers between 2 and $\\sqrt{n}$. A for loop is a control flow statement which allows code to be executed repeatedly until a desried condition is satisfied. Python does not include the last number in the range so we have to assign the loop from 2 to $\\sqrt{n}+1$ because we need the loop to include $\\sqrt{n}$. The reason we only loop until $\\sqrt{n}$ and not n is due to the factorization including duplicate numbers in reverse order, that do not be checked twice, after we reach $\\sqrt{n}$\n",
    "\n",
    "For example: $64=1\\times64=2\\times32=4\\times16=8\\times8=16\\times4=32\\times2=64\\times1$\n",
    "\n",
    "notice that the numbers are repeated in reverse order after $\\sqrt{64}=8$\n",
    "\n",
    "we can generalize the example for all n: $n=1\\times n=a\\times b=...=\\sqrt{n}\\times\\sqrt{n}=...=b\\times a=n\\times 1$\n",
    "\n",
    "This step is important because it optimizes the code and cuts the range of the loop in half. This allows the code the faster and more effciently.\n",
    "\n",
    "Next we nested an if statement in the for loop in order to find all the numbers from 2 to $\\sqrt{n}$ that produce remainder=0. The % operator returns the remainder from the division of n by i (every number in the loop). If a number is found that returns remainder=0 then it is a divisor of n, that means there is a number other than 1 and n that is divisible by n, therefore by the defintion of a prime number our n is a composite number; So we assign out=0 and reach the conculsion that n is a composite. On the other hand if no number is found in which the remainder=0 of n by i then we do not enter the for loop since the condition (n%i==0) is not satisfied and 'out' remains =1. We can conclude that n has no divisors other than 1 and n and therefore n is a prime number. Finally we return the value of 'out' which will be either 1,0, or -1 and we can clearly conclude whether the number is prime or composite."
   ]
  },
  {
   "cell_type": "code",
   "execution_count": 9,
   "metadata": {
    "collapsed": true
   },
   "outputs": [],
   "source": [
    "def CheckPrime1(n):\n",
    "    \"\"\"Function checks whether a given number 'n' is a prime number or not.\n",
    "       n - input on which the check is to be made. Must be a positive integer greater than 1\n",
    "       Return 1 if the input is a prime number. \n",
    "       Return 0 if the input is not a prime number. \n",
    "       Return -1 if the input is not an eligible number. \"\"\"\n",
    "     \n",
    "    out=1  # Assume input to be a prime number\n",
    "    \n",
    "    if (n < 2): # Check if the input is an eligible number\n",
    "        #print(\"Enter an eligible number. n must be a positive integer greater than 1.\") # Error message\n",
    "        out = -1\n",
    "        return out\n",
    "    \n",
    "    n = round(n) # Round to the neareast integer to make sure there are no floating numbers     \n",
    "        \n",
    "    \n",
    "    # Check if a divisor exists within the range of 2 until the square root of n\n",
    "    # If no, n is a prime. If yes, n is not a prime   \n",
    "    \n",
    "    \n",
    "    for i in range(2,int(n**0.5)+1): \n",
    "        if (n%i == 0):\n",
    "            out = 0\n",
    "        \n",
    "    #if (out == 0):\n",
    "        #print(\"No, n = {} is not a prime.\".format(n))\n",
    "    #else:\n",
    "        #print(\"Yes, n = {} is a prime.\".format(n))\n",
    "    \n",
    "    return out"
   ]
  },
  {
   "cell_type": "code",
   "execution_count": 10,
   "metadata": {},
   "outputs": [
    {
     "data": {
      "text/plain": [
       "1"
      ]
     },
     "execution_count": 10,
     "metadata": {},
     "output_type": "execute_result"
    }
   ],
   "source": [
    "CheckPrime1(7)"
   ]
  },
  {
   "cell_type": "code",
   "execution_count": 11,
   "metadata": {},
   "outputs": [
    {
     "data": {
      "text/plain": [
       "0"
      ]
     },
     "execution_count": 11,
     "metadata": {},
     "output_type": "execute_result"
    }
   ],
   "source": [
    "CheckPrime1(10)"
   ]
  },
  {
   "cell_type": "code",
   "execution_count": 12,
   "metadata": {},
   "outputs": [
    {
     "data": {
      "text/plain": [
       "-1"
      ]
     },
     "execution_count": 12,
     "metadata": {},
     "output_type": "execute_result"
    }
   ],
   "source": [
    "CheckPrime1(-4)"
   ]
  },
  {
   "cell_type": "markdown",
   "metadata": {},
   "source": [
    "The code seems to be working perfectly fine! Let's see the time required the compute the integers up to 100,000"
   ]
  },
  {
   "cell_type": "code",
   "execution_count": 6,
   "metadata": {},
   "outputs": [],
   "source": [
    "import time as tm"
   ]
  },
  {
   "cell_type": "code",
   "execution_count": 13,
   "metadata": {},
   "outputs": [
    {
     "name": "stdout",
     "output_type": "stream",
     "text": [
      "Time taken = 1.2514081001281738 s\n"
     ]
    }
   ],
   "source": [
    "t1 = tm.time()\n",
    "for n in range(1,100000):\n",
    "    CheckPrime1(n)\n",
    "t2 = tm.time()\n",
    "print(\"Time taken = {} s\". format(t2-t1))\n"
   ]
  },
  {
   "cell_type": "markdown",
   "metadata": {},
   "source": [
    "The time taken was not bad, but it could be improved. As I stated before, the effciency of the CheckPrime function is crticial as it is called upon in the other 2 functions. \n",
    "\n",
    "If the input is even and greater than 2, we will find a divisor on the first step since every even number is divisible by 2 and we will automatically know that the number is composite. It is a waste to check over all those even numbers so we will introduce another if statments that will assign out=0 if the number is even and greater than 2. So we will only check the divisors for odd numbers since all prime numbers greater than 2 are odd. It is a waste to check all the even numbers so we will change the range to 3 until $\\sqrt{n}+1$ with a step counter of 2. That will make the code only loop over odd numbers and therefore cut the range in half and optimize the code to the maximum."
   ]
  },
  {
   "cell_type": "code",
   "execution_count": 14,
   "metadata": {
    "collapsed": true
   },
   "outputs": [],
   "source": [
    "def CheckPrime(n):\n",
    "    \"\"\"Function checks whether a given number 'n' is a prime number or not.\n",
    "       n - input on which the check is to be made. Must be a positive integer greater than 1\n",
    "       Return 1 if the input is a prime number. \n",
    "       Return 0 if the input is not a prime number. \n",
    "       Return -1 if the input is not an eligible number. \"\"\"\n",
    "     \n",
    "    out=1  # Assume input to be a prime number\n",
    "    \n",
    "    if (n < 2): # Check if the input is an eligible number\n",
    "        #print(\"Enter an eligible number. n must be a positive integer greater than 1.\") # Error message\n",
    "        out = -1\n",
    "        return out\n",
    "    \n",
    "    n = round(n) # Round to the neareast integer to make sure there are no floating numbers     \n",
    "        \n",
    "    if n > 2 and n % 2 == 0: # If the input is greater than 2 and it's even, then it's not a prime\n",
    "        out = 0\n",
    "        return out \n",
    "    \n",
    "    # Check that no divisor exists within all odd integers until the square root of n\n",
    "    # If yes, n is a prime. If no, n is not a prime   \n",
    "    \n",
    "    for i in range(3 ,int(n**0.5) + 1, 2): \n",
    "        if (n%i == 0):\n",
    "            out = 0\n",
    "        \n",
    "    #if (out == 0):\n",
    "        #print(\"No, n = {} is not a prime.\".format(n))\n",
    "    #else:\n",
    "        #print(\"Yes, n = {} is a prime.\".format(n))\n",
    "    \n",
    "    return out"
   ]
  },
  {
   "cell_type": "code",
   "execution_count": 15,
   "metadata": {},
   "outputs": [
    {
     "data": {
      "text/plain": [
       "1"
      ]
     },
     "execution_count": 15,
     "metadata": {},
     "output_type": "execute_result"
    }
   ],
   "source": [
    "CheckPrime(11)"
   ]
  },
  {
   "cell_type": "code",
   "execution_count": 16,
   "metadata": {},
   "outputs": [
    {
     "data": {
      "text/plain": [
       "0"
      ]
     },
     "execution_count": 16,
     "metadata": {},
     "output_type": "execute_result"
    }
   ],
   "source": [
    "CheckPrime(4)"
   ]
  },
  {
   "cell_type": "code",
   "execution_count": 17,
   "metadata": {},
   "outputs": [
    {
     "data": {
      "text/plain": [
       "-1"
      ]
     },
     "execution_count": 17,
     "metadata": {},
     "output_type": "execute_result"
    }
   ],
   "source": [
    "CheckPrime(0)"
   ]
  },
  {
   "cell_type": "markdown",
   "metadata": {},
   "source": [
    "The code still works perfectly fine, now let's see if it can compute the integers up to 100,000 any faster "
   ]
  },
  {
   "cell_type": "code",
   "execution_count": 18,
   "metadata": {},
   "outputs": [
    {
     "name": "stdout",
     "output_type": "stream",
     "text": [
      "Time taken = 0.37160491943359375 s\n"
     ]
    }
   ],
   "source": [
    "t1 = tm.time()\n",
    "for n in range(1,100000):\n",
    "    CheckPrime(n)\n",
    "t2 = tm.time()\n",
    "print(\"Time taken = {} s\". format(t2-t1))\n"
   ]
  },
  {
   "cell_type": "markdown",
   "metadata": {},
   "source": [
    "We managed to increase computation speed by a factor of 3.38! Now we are ready to write ListPrime and nPrimes"
   ]
  },
  {
   "cell_type": "markdown",
   "metadata": {},
   "source": [
    "ListPrime: Function takes input n and returns all prime numbers smaller than n using CheckPrime function. Input n must be a positive integer greater than 2 since 2 is the first prime number and none exist before it and we are listing all prime numbers before n. Output will be in a form of a list. If input is not an eligible number, an empty set will be retuned\n",
    "\n",
    "First we start by creating an empty list called primeList which will contain all prime numbers smaller than n. Then we will check if the number is eligible in the exact same way that we did in CheckPrime and return an error message if the number is not eligible. After that we round n to the nearest integer to avoid floating numbers. Next we enter a for loop and loop from all numbers between 2 and n and we test the CheckPrime function to filter out the prime numbers. We will enter the nested if statement if the condition test==1 is met. The condition will only by met by prime numbers as we assigned a value of 1 to prime numbers in CheckPrime. Whenever a prime number less than n is found it will be added to the list primeList list using the append function. Once all prime numbers less than n are added to the list, we will exit the for loop and return the primeList containing all prime numbers less than n."
   ]
  },
  {
   "cell_type": "code",
   "execution_count": 59,
   "metadata": {
    "collapsed": true
   },
   "outputs": [],
   "source": [
    "def ListPrime(n):\n",
    "    \"\"\"Function takes input n and returns all prime numbers smaller than n using CheckPrime function.\n",
    "       n - input must be a positive integer greater than 2 \n",
    "       primeList - output is in a form of a list. If input is not an eligible number, an empty set will be retuned \"\"\"\n",
    "    \n",
    "    primeList = [] # Make sure the list is clear\n",
    "    \n",
    "    if (n < 2): # Check if the input is an eligible number\n",
    "        print(\"Enter a meaningful number. n must be a positive integer greater than 2.\") # Error message\n",
    "        out = -1 \n",
    "        return primeList\n",
    "    \n",
    "    n = round(n) # Round to the neareast integer to make sure there are no floating numbers\n",
    "    \n",
    "    for m in range(2 ,n): # Use CheckPrime function to find all prime numbers smaller than n\n",
    "        test = CheckPrime(m)\n",
    "        \n",
    "        if (test == 1):\n",
    "            primeList.append(m) # Add every prime number less than n to primeList\n",
    "            \n",
    "    return primeList"
   ]
  },
  {
   "cell_type": "code",
   "execution_count": 20,
   "metadata": {},
   "outputs": [
    {
     "data": {
      "text/plain": [
       "[2, 3, 5, 7, 11, 13, 17, 19, 23, 29]"
      ]
     },
     "execution_count": 20,
     "metadata": {},
     "output_type": "execute_result"
    }
   ],
   "source": [
    "ListPrime(30)"
   ]
  },
  {
   "cell_type": "code",
   "execution_count": 21,
   "metadata": {},
   "outputs": [
    {
     "data": {
      "text/plain": [
       "[2, 3, 5, 7, 11, 13, 17, 19, 23, 29, 31, 37, 41, 43, 47]"
      ]
     },
     "execution_count": 21,
     "metadata": {},
     "output_type": "execute_result"
    }
   ],
   "source": [
    "ListPrime(50)"
   ]
  },
  {
   "cell_type": "code",
   "execution_count": 22,
   "metadata": {},
   "outputs": [
    {
     "name": "stdout",
     "output_type": "stream",
     "text": [
      "Enter a meaningful number. n must be a positive integer greater than 2.\n"
     ]
    },
    {
     "data": {
      "text/plain": [
       "[]"
      ]
     },
     "execution_count": 22,
     "metadata": {},
     "output_type": "execute_result"
    }
   ],
   "source": [
    "ListPrime(1)"
   ]
  },
  {
   "cell_type": "code",
   "execution_count": 23,
   "metadata": {},
   "outputs": [
    {
     "name": "stdout",
     "output_type": "stream",
     "text": [
      "Enter a meaningful number. n must be a positive integer greater than 2.\n"
     ]
    },
    {
     "data": {
      "text/plain": [
       "[]"
      ]
     },
     "execution_count": 23,
     "metadata": {},
     "output_type": "execute_result"
    }
   ],
   "source": [
    "ListPrime(-2)"
   ]
  },
  {
   "cell_type": "markdown",
   "metadata": {},
   "source": [
    "Output is correct! Let's move on to nPrimes\n",
    "\n",
    "nPrimes- Function takes an input n and returns the first n prime numbers using CheckPrime function. Input must be a positive integer greater than 0 because we are listing n primes. output will be in a form of a list. If input is not an eligible number, an empty set will be retuned.\n",
    "\n",
    "First we start by creating an empty set nPrimes which will contain the first n prime numbers. A while loop is a control flow statement that allows code to be executed repeatedly based on a given condition. The while loop can be thought of as a repeating if statement. We must initialize a counter=m which will be tested in CheckPrime and updated everytime a loop is done. Next we will enter a while loop which will keep on looping over and over until the length of the list nPrimes is less than n since we want the first n primes. Next we will test every m using CheckPrime to filter out the prime numbers. Just like in ListPrime, if test==1 then we know m is a prime number since we assigned prime numbers the value of 1. If test==1 then we will add it to the list nPrimes using the append function. We will keep on doing the same process for every m as we will be incrementing m by 1 at the end of every loop until we reach to the first n primes. Finally we will return the output nPrimes as a list which contains the first n prime numbers.\n"
   ]
  },
  {
   "cell_type": "code",
   "execution_count": 25,
   "metadata": {
    "collapsed": true
   },
   "outputs": [],
   "source": [
    "def nPrimes (n):\n",
    "    \"\"\"Function takes an input n and returns the first n prime numbers using CheckPrime function\n",
    "       n - input must be a positive integer greater than 0\n",
    "       nPrimes - output is in a form of a list. If input is not an eligible number, an empty set will be retuned \"\"\"\n",
    "    \n",
    "    nPrimes= [] # Make sure the list is clear\n",
    "    \n",
    "    m = 1 # Initialize a counter \n",
    "    \n",
    "    while (len(nPrimes)<n): # Keep adding prime numbers to nPrimes until it reaches the length n \n",
    "        test = CheckPrime(m) # Use CheckPrime function to generate the prime numbers\n",
    "        \n",
    "        if (test == 1):\n",
    "            nPrimes.append(m) # If number is a prime, add it to nPrimes\n",
    "            \n",
    "        m=m+1 # Update the counter\n",
    "        \n",
    "    return nPrimes             "
   ]
  },
  {
   "cell_type": "code",
   "execution_count": 26,
   "metadata": {},
   "outputs": [
    {
     "data": {
      "text/plain": [
       "[2, 3, 5, 7, 11, 13, 17, 19, 23, 29, 31, 37, 41, 43, 47, 53, 59, 61, 67, 71]"
      ]
     },
     "execution_count": 26,
     "metadata": {},
     "output_type": "execute_result"
    }
   ],
   "source": [
    "nPrimes(20)"
   ]
  },
  {
   "cell_type": "code",
   "execution_count": 27,
   "metadata": {},
   "outputs": [
    {
     "data": {
      "text/plain": [
       "[2, 3, 5, 7, 11, 13, 17, 19, 23, 29]"
      ]
     },
     "execution_count": 27,
     "metadata": {},
     "output_type": "execute_result"
    }
   ],
   "source": [
    "nPrimes(10)"
   ]
  },
  {
   "cell_type": "code",
   "execution_count": 28,
   "metadata": {},
   "outputs": [
    {
     "data": {
      "text/plain": [
       "[]"
      ]
     },
     "execution_count": 28,
     "metadata": {},
     "output_type": "execute_result"
    }
   ],
   "source": [
    "nPrimes(0)"
   ]
  },
  {
   "cell_type": "code",
   "execution_count": 29,
   "metadata": {},
   "outputs": [
    {
     "data": {
      "text/plain": [
       "[]"
      ]
     },
     "execution_count": 29,
     "metadata": {},
     "output_type": "execute_result"
    }
   ],
   "source": [
    "nPrimes(-2)"
   ]
  },
  {
   "cell_type": "markdown",
   "metadata": {},
   "source": [
    "## Part 2"
   ]
  },
  {
   "cell_type": "markdown",
   "metadata": {},
   "source": [
    "Prime factorization is vital in cyber encryption. It's many unique properties give it a cutting edge in developing advanced technology in cyber securtiy. Mathematicians have shown that absolutely any whole number can be expressed as a product of primes, only primes, and nothing else. So as we try to pull apart any number into two numbers, then pull those apart into two numbers if possible, and so on, we will eventually be left only with primes. When you enter your credit card number on the Internet, prime numbers are being used. Before your card number is sent, it is be encrypted for security, and once it’s received by the merchant, it must be decrypted. One of the most common encryption schemes, the RSA algorithm, is based on prime numbers. It uses “public key” information that is publicly available, and a “private key,” something that only the seller has. The public key consists of a large number that is the product of two smaller primes, and the private key consists of those two primes themselves.  Primes are important because the security of many encryption algorithms are based on the fact that it is very fast to multiply two large prime numbers and get the result, while it is extremely computer-intensive to do the reverse. When you have a number which you know is the product of two primes, finding these two prime numbers is very hard. This problem is called prime factorization and finding an algorithm which does it fast is one of the unsolved problems of computer science.\n",
    "\n",
    "Any integer $n > 1$ can be written as a unique product of primes for example: $n = y1\\times y2\\times...\\times ym$\n",
    "\n",
    "$ym$ are primes such that $y1 \\le y2 \\le ... \\le ym $\n",
    "\n",
    "The objective of this section is to write a function primeDivisorsUnique which accepts an integer n and returns two outputs. The first output is a list which contains all the unique prime divisors. The second output is a list of how many times each of unique the prime divisors occur in the prime\n",
    "decomposition.\n",
    "\n",
    "primeDivisorsUnique - Function takes an input n and returns the prime divisors in the form of 2 outputs like stated above. Input n must be a positive integer greater than 1 because it needs to have prime factors within it and that is not possible with any number less than 2. \n",
    "\n",
    "First we start by creating 2 empty lists primeDivisors and exponents. Next we need to make sure that the input n is eligible just like we did in all the previous parts. After that we round n to the nearest integer to aviod floating numbers. Then we will enter a for loop which will range from 2 till n because we need to go through all the numbers to check if they are prime divisors of n. The nested for loop will check if the number is a factor by checking if we get a remainder=0 from dividing n by i (i is the range of numbers we are checking i.e from 2 till n). Once the loop finds a number that is divisible by n we will enter the for loop and intialize a counter which will count how many the number we are checking can be divided by n. The nested while loop will keep on trying to divide n by i as many times as possible, each time we divide n by i we will add 1 to the counter in order to document how many times that number is repeated in the prime factorization. Since we are continously trying to divide n by i we will only get prime numbers in our output because we will not reach a composite number as it's prime divisors would have already been used as many times as possible. Once we exit the while loop any number that is divisible by n will be added to the list primeDivisors using the append function. Since the number has already been divided as many times as possible, the function will add the value of the counter to the exponents list using the append function. We are appending the lists only after we exit the while loop that's why the number doesn't get repeated in the primeDivisors list. The value of the counter will correspond to the number of times i was used to divide by n in the primeDivisors list. Finally once n reaches 1, which means is was fully factorized, we will break the loop and end our code as our prime factorization is complete. \n",
    "\n",
    "*source 2"
   ]
  },
  {
   "cell_type": "code",
   "execution_count": 30,
   "metadata": {
    "collapsed": true
   },
   "outputs": [],
   "source": [
    "def primeDivisorsUnique (n):\n",
    "    \"\"\"Function takes an input n and returns the prime divisors in the form of 2 outputs.\n",
    "       primeDivisors- The first output is a list which contains all the unique prime divisors.\n",
    "       exponents- The second output is a list of how many times each of unique the prime divisors \n",
    "       occurs in the prime decomposition\n",
    "       n - input must be a positive integer greater than 1 \"\"\"\n",
    "    \n",
    "    primeDivisors = [] # Make sure the lists is clear\n",
    "    exponents = []\n",
    "    \n",
    "    if (n < 2): # Check if the input is an eligible number\n",
    "        print(\"Enter an eligible number. n must be a positive integer greater than 1.\") # Error message \n",
    "\n",
    "    n=round(n) # Round to the neareast integer to make sure there are no floating numbers\n",
    "    \n",
    "    for i in range(2,n): # Loop over all numbers between 2 and n\n",
    "        if (n%i==0): # If n is divisible by i then enter the loop\n",
    "            count=0 # Initialize a counter\n",
    "            while(n%i==0): # Divide n by i as many times as possible\n",
    "                n=n//i\n",
    "                count=count+1 # Add a count for everytime n is divided by i\n",
    "            primeDivisors.append(i) # Add i to the list\n",
    "            exponents.append(count) # Count how many times i was repated \n",
    "            \n",
    "        if (n == 1): # End the loop once n=1 since it can't be divided any further \n",
    "            break\n",
    "                \n",
    "    return primeDivisors, exponents"
   ]
  },
  {
   "cell_type": "code",
   "execution_count": 31,
   "metadata": {},
   "outputs": [
    {
     "data": {
      "text/plain": [
       "([2, 5], [2, 1])"
      ]
     },
     "execution_count": 31,
     "metadata": {},
     "output_type": "execute_result"
    }
   ],
   "source": [
    "primeDivisorsUnique(20)"
   ]
  },
  {
   "cell_type": "code",
   "execution_count": 33,
   "metadata": {},
   "outputs": [
    {
     "data": {
      "text/plain": [
       "([3, 41], [1, 1])"
      ]
     },
     "execution_count": 33,
     "metadata": {},
     "output_type": "execute_result"
    }
   ],
   "source": [
    "primeDivisorsUnique(123)"
   ]
  },
  {
   "cell_type": "markdown",
   "metadata": {},
   "source": [
    "## Part 3 "
   ]
  },
  {
   "cell_type": "markdown",
   "metadata": {},
   "source": [
    "Congruent modulo of a given number occurs when two numbers divided by that same number present equal remainders. Arithmetic operations verify and maintain the interaction of congruency. An equal remainder divided by n across the given integers predicts a direct coordination of class, or equivalence of class, which are also understood as congruence classes modulo n. The theory across congruency modulo of a prime number presents an identifying aspect that states a limited set of elements are comprised from the residue class modulo. Thus, with this specific field of factors, congruences modulo of prime numbers are applied as functions or equations over a limited set, practices of number theory, and algebraic-geometric methods. A congruence correspondence with integers that relate to the functions of addition, subtraction, and multiplication calculate modular arithmetic.\n",
    " \n",
    "$\\equiv$ is the symbol for congruence, which means the values A and B are in the same equivalence class.\n",
    "\n",
    "$(modc)$  tells us what operation we applied to A and B.\n",
    "\n",
    "when we have both of these, we call $\\equiv$ congruence modulo C\n",
    "\n",
    "For example take 3 integers A,B, and C. A and B are congreunt if dividing both of them by C yields the same remainder. \n",
    "\n",
    "$a^c \\equiv a(mod c)$ for any integer $ p > a > 0 $\n",
    "\n",
    "$3^3 = 27 \\equiv 3(mod3)$ here 27 is equivialent to 3 module 3 because you get the same remainder\n",
    "\n",
    "To calculate the remainder of the division of $a^b$ with c. The function $pow(a,n)$ just returns $a^n$.\n",
    "\n",
    "Only prime numbers will pass the congruence test and we will use that property to differentiate between prime numbers and composite numbers\n",
    "\n",
    "I am going to write a function CheckPrimeLike that uses a different property of prime numbers, called  the congruence relation, to check whether a number is prime or not. Then ,just like in part 1, I am going to call upon the CheckPrimeLike function within 2 other functions; ListPrimelike: which accepts as an interger n as input and\n",
    "returns the list of prime-like numbers less than n using the congruence relation check, and nPrimeLike: which accepts an integer n as an input and returns the first n number of prime-like numbers also using the congruence relation check. Finally I am going to compare the list of the first 500 primes from my nPrimes function and compare them with the output from my nPrimeLike function.\n",
    "\n",
    "checkPrimeLike - Function checks whether a given number n is a prime number or not using the congruence relation. Input on which the check is to be made. Must be a positive integer greater than 1 just like CheckPrime\n",
    "\n",
    "Initially assume whatever input is given is a prime number, so we assign check=1. Then we will check if the number is eligible in the exact same way that we did in CheckPrime and return an error message if the number is not eligible. rime numbers range between 2 and infinity, therefore any input that is less than 2 is not eligible. Then we proceed to enter the for loop and check for the range between 1 and n because we want to go through all numbers and check if they fail the conguence test which will deem them as composite numbers. If the remainder of the division of i by n does not equal to the $pow(i,n,n)$ then we will come to the conclusion that the number is a prime and assign check a value of 0 which corresponds to it being a composite number. Finally we return the value of check which will tell us whether the number passed the congruence test and is a prime number or not. \n",
    "\n",
    "*source 3"
   ]
  },
  {
   "cell_type": "code",
   "execution_count": 34,
   "metadata": {
    "collapsed": true
   },
   "outputs": [],
   "source": [
    "def checkPrimeLike(n):\n",
    "    \"\"\"\"Function checks whether a given number n is a prime number or not using the congruence relation.\n",
    "       n - input on which the check is to be made. Must be a positive integer greater than 1\n",
    "       Return 1 if the input is a prime number. \n",
    "       Return 0 if the input is not a prime number.\n",
    "       Return -1 if the input is not an eligible number. \"\"\"\n",
    "    \n",
    "    check = 1\n",
    "    if (n < 2):\n",
    "        #print(\"Enter an eligible number. n must be a positive integer greater than 1.\") # Error message\n",
    "        out = -1\n",
    "        return out\n",
    "    for i in range(1,n): #loop around the range\n",
    "        if (pow(i, n, n)!=i%n): #carry out congruence test \n",
    "            check = 0\n",
    "    return check"
   ]
  },
  {
   "cell_type": "markdown",
   "metadata": {},
   "source": [
    "Part (i) does the exact same thing as ListPrime but instead it uses the CheckPrimeLike function instead of the CheckPrime\n"
   ]
  },
  {
   "cell_type": "code",
   "execution_count": 50,
   "metadata": {},
   "outputs": [],
   "source": [
    "def ListPrimeLike(n):\n",
    "    \n",
    "    \"\"\"Function takes input n and returns all prime numbers smaller than n using CheckPrime function.\n",
    "       n - input must be a positive integer greater than 2 \n",
    "       primeList - output is in a form of a list. If input is not an eligible number, an empty set will be retuned \"\"\"\n",
    "    \n",
    "    nprimeList = [] # Make sure the list is clear\n",
    "    \n",
    "    if (n < 2): # Make sure the list is clear\n",
    "        #print(\"Enter meaningful. n must be a positive integer greater than 2.\")\n",
    "        out = -1\n",
    "        n = round(n) # Round to the neareast integer to make sure there are no floating numbers\n",
    "        \n",
    "    for i in list(range(2, n)): # Use CheckPrimeLike function to find all prime numbers smaller than n\n",
    "        test = checkPrimeLike(i)\n",
    "        if (test==1):\n",
    "            nprimeList.append(i) # Add every prime number less than n to primeList\n",
    "            \n",
    "    return nprimeList    "
   ]
  },
  {
   "cell_type": "code",
   "execution_count": 42,
   "metadata": {},
   "outputs": [
    {
     "data": {
      "text/plain": [
       "[2, 3, 5, 7]"
      ]
     },
     "execution_count": 42,
     "metadata": {},
     "output_type": "execute_result"
    }
   ],
   "source": [
    "ListPrimeLike(10)"
   ]
  },
  {
   "cell_type": "code",
   "execution_count": 45,
   "metadata": {},
   "outputs": [
    {
     "data": {
      "text/plain": [
       "[2, 3, 5, 7, 11, 13, 17, 19, 23, 29, 31, 37, 41, 43, 47, 53, 59, 61, 67]"
      ]
     },
     "execution_count": 45,
     "metadata": {},
     "output_type": "execute_result"
    }
   ],
   "source": [
    "ListPrimeLike(71)"
   ]
  },
  {
   "cell_type": "code",
   "execution_count": 46,
   "metadata": {},
   "outputs": [
    {
     "data": {
      "text/plain": [
       "1"
      ]
     },
     "execution_count": 46,
     "metadata": {},
     "output_type": "execute_result"
    }
   ],
   "source": [
    "checkPrimeLike(61)"
   ]
  },
  {
   "cell_type": "code",
   "execution_count": 47,
   "metadata": {},
   "outputs": [
    {
     "data": {
      "text/plain": [
       "0"
      ]
     },
     "execution_count": 47,
     "metadata": {},
     "output_type": "execute_result"
    }
   ],
   "source": [
    "checkPrimeLike(124)"
   ]
  },
  {
   "cell_type": "code",
   "execution_count": 49,
   "metadata": {},
   "outputs": [
    {
     "data": {
      "text/plain": [
       "-1"
      ]
     },
     "execution_count": 49,
     "metadata": {},
     "output_type": "execute_result"
    }
   ],
   "source": [
    "checkPrimeLike(-17)"
   ]
  },
  {
   "cell_type": "markdown",
   "metadata": {},
   "source": [
    "Part (ii) does the exact same thing as nPrimes but instead it uses the CheckPrimeLike function instead of the CheckPrime"
   ]
  },
  {
   "cell_type": "code",
   "execution_count": 51,
   "metadata": {
    "collapsed": true
   },
   "outputs": [],
   "source": [
    "def nPrimeLike(n):\n",
    "     \"\"\"Function takes an input n and returns the first n prime numbers using CheckPrime function\n",
    "       n - input must be a positive integer greater than 0\n",
    "       nPrimes - output is in a form of a list. If input is not an eligible number, an empty set will be retuned \"\"\"\n",
    "    \n",
    "    out=1\n",
    "    \n",
    "    nPrimeLike = []\n",
    "    \n",
    "    i=1\n",
    "    \n",
    "    while(len(nPrimeLike) < n): # Keep adding prime numbers to nPrimes until it reaches the length n \n",
    "        test = checkPrimeLike(i) # Use CheckPrimeLike function to generate the prime numbers\n",
    "        if (test == 1):\n",
    "            nPrimeLike.append(i)\n",
    "        i = i + 1\n",
    "    return nPrimeLike "
   ]
  },
  {
   "cell_type": "code",
   "execution_count": 53,
   "metadata": {},
   "outputs": [
    {
     "data": {
      "text/plain": [
       "[2, 3, 5, 7, 11, 13, 17, 19, 23, 29, 31, 37, 41, 43, 47, 53, 59, 61, 67, 71]"
      ]
     },
     "execution_count": 53,
     "metadata": {},
     "output_type": "execute_result"
    }
   ],
   "source": [
    "nPrimeLike(20)"
   ]
  },
  {
   "cell_type": "code",
   "execution_count": 54,
   "metadata": {},
   "outputs": [
    {
     "data": {
      "text/plain": [
       "[]"
      ]
     },
     "execution_count": 54,
     "metadata": {},
     "output_type": "execute_result"
    }
   ],
   "source": [
    "nPrimeLike(0)"
   ]
  },
  {
   "cell_type": "markdown",
   "metadata": {},
   "source": [
    "Part (iii) We have to compare the list of the first 500 primes from your nPrimes function and compare them with the output from your nPrimeLike function"
   ]
  },
  {
   "cell_type": "code",
   "execution_count": 55,
   "metadata": {
    "collapsed": true
   },
   "outputs": [],
   "source": [
    "n1 =nPrimes(500)"
   ]
  },
  {
   "cell_type": "code",
   "execution_count": 56,
   "metadata": {
    "collapsed": true
   },
   "outputs": [],
   "source": [
    "n2 = nPrimeLike(500)"
   ]
  },
  {
   "cell_type": "code",
   "execution_count": 58,
   "metadata": {},
   "outputs": [
    {
     "name": "stdout",
     "output_type": "stream",
     "text": [
      "[561, 1105, 1729, 2465, 2821]\n"
     ]
    }
   ],
   "source": [
    "Carmichaelnumbers = [i for i in n2 if i not in n1]\n",
    "print(extras)"
   ]
  },
  {
   "cell_type": "markdown",
   "metadata": {},
   "source": [
    "A Carmichael number is a composite number n which satisfies the modular arithmetic congruence relation. This is why we called our function like primes, because although most of the numbers are actually prime numbers, the carmicheal numbers wil still pass the congruence test and therefore appear in our list of prime like numbers. We compared the primelike numbers to the primes in order to filter out the carmicheal numbers and spot them out of the list of 500 prime numbers. \n",
    "\n",
    "*source 4"
   ]
  },
  {
   "cell_type": "markdown",
   "metadata": {},
   "source": [
    "## Conclusion "
   ]
  },
  {
   "cell_type": "markdown",
   "metadata": {},
   "source": [
    "In conclusion we have seen throughout my project, prime numbers and their applications are pivotal in modern day mathematics and computer science. Prime numbers are very distinct, as they have been measured and reasoned with for quite some time but in-depth knowledge has only recently been discovered and explored. As advancements with science, math, and technology increases, specialist still find difficulties across explanations and patterns of prime numbers. only slight developments have been made, as they only fully apply to computers and encryption; with the unceasing development of resources, it is hopeful that soon prime numbers will be more greatly understood.\n",
    "\n",
    "In part 1 of my project I focused on optimizing my code to the best of my ability in order to get the most efficient output. I cut out all the duplicate terms that occur are $\\sqrt{n}$ and also looked into how no even numbers other than 2 can be prime numbers since even numbers are divisible by 2. After creating my CheckPrime function, I created the functions nPrimes and ListPrime which give out prime numbers as the output.\n",
    "Finding the prime divisors in part 2 relies on the fact that mathematicians have shown that absolutely any whole number can be expressed as a product of primes, only primes, and nothing else. So as we try to pull apart any number into two numbers, then pull those apart into two numbers if possible, and so on, we will eventually be left only with primes. Part 3 shows that the theory across congruency modulo of a prime number presents an identifying aspect that states a limited set of elements are comprised from the residue class modulo. In the last part of the project I compared the results from the nPrimes and the nPrimesLike and came to the conclusion that the reason we called our function like primes carmichael number is a composite number n which satisfies the modular arithmetic congruence relation. Personally I am very intrigued by how prime numbers are extremely unqiue and how they can fuel many modern technologies. I think there is a lot of room for growth in future technology using prime numbers as there are many questions that we have unanswered. Finally, I would like the say that I enjoyed researching thouroughly about this subject and I have definetly benefited from the knowledge I have aquired has broaded my horizoned in mathamatics and as an acturial science major. This will further be beneficial to my future studies.\n",
    "\n",
    "Sources: \n",
    "\n",
    "1: https://primes.utm.edu/notes/faq/one.html\n",
    "\n",
    "2: https://www.extremetech.com/extreme/219570-what-are-prime-numbers-and-why-are-they-so-vital-to-modern-life\n",
    "\n",
    "3: https://www.khanacademy.org/computing/computer-science/cryptography/modarithmetic/a/congruence-modulo\n",
    "\n",
    "4: https://en.wikipedia.org/wiki/Carmichael_number"
   ]
  },
  {
   "cell_type": "code",
   "execution_count": null,
   "metadata": {
    "collapsed": true
   },
   "outputs": [],
   "source": []
  }
 ],
 "metadata": {
  "kernelspec": {
   "display_name": "Python 3",
   "language": "python",
   "name": "python3"
  },
  "language_info": {
   "codemirror_mode": {
    "name": "ipython",
    "version": 3
   },
   "file_extension": ".py",
   "mimetype": "text/x-python",
   "name": "python",
   "nbconvert_exporter": "python",
   "pygments_lexer": "ipython3",
   "version": "3.6.3"
  }
 },
 "nbformat": 4,
 "nbformat_minor": 2
}
