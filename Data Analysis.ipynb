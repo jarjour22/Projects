{
 "cells": [
  {
   "cell_type": "markdown",
   "metadata": {},
   "source": [
    "# Data Analysis and Machine Learning"
   ]
  },
  {
   "cell_type": "markdown",
   "metadata": {},
   "source": [
    "## Introduction\n",
    "\n",
    "Data analysis is the process of obtaining raw data from various sources and converting it into useful information for decision-making and predicting the future. Data analysis applies statistical methods to organize, represent, describe, evaluate, and interpret data. The analysis process includes evaluating data using analytical and logical reasoning to examine each revelant component of the data provided. The field of data science has been growing rapidly due it's huge influence on many aspects of our everday life. Data anaylsis is used order to boost our knowledge about important unknown aspects of the future. The process of using previous known data to formulate patterns and predicitions about future unknown situations can be used in almost any field in which data is available. The term \"Big data\" is a term used to refer to data sets that are too large or complex for an ordinary data processing software to be able to easily deal with. Big data (with many observations) allowed us to have an evolution of statistical power. This has boosted the efficiency levels of many important fields to a developed society. We have to be careful with big data since it may have very high complexity (more attributes) which may lead to a high false discovery rate. The demand of data analysis skills is increasing very quickly which caused high paid professions like Acturial scienctists/analyists to substantialy develop. Below are a few examples of where data analysis is useful:\n",
    "\n",
    "- Economics: Predict customer trends and behaviours by the availability of real-time measurement of aggregate economic statistics data \n",
    "- Business: Increase productivity, cost reduction, all round more efficient ways of doing business. \n",
    "- Finance:  Make faster, better, and constantly improving decisions.  \n",
    "- Medicine: Improving research in attempt of curing diseases and developing better techniques to treat pateints. \n",
    "- Engineering: Develop, maintain, test, and evaluate solutions. Also to build more advanced machines.\n",
    "- Social sciences: Resolve some of the most pressing problems today like racism, poverty, crime etc.\n",
    "\n",
    "The reason behind this data analysis revolution is due to two factors. First we have developed super computing power, especially the ability to store larger amounts of data with low costs. Second, we have the ability now to use concepts from mathematics like, linear algebra, calculus, topology and statistics in creative and powerful ways to study and simplify huge and complex data sets. Machine learning is the study of algorithms and statistical models that computer systems use to progressively improve their performance on a specific task. Machine learning algorithms build a mathematical model of collected sample data, known as \"training data\", in order to make automated predictions or decisions. An example of machine learning is developing a computer programs that automate the data analysis processes. We are able to execute financial trades at speeds and frequencies that a human trader cannot. Using mathematical models, algorithmic trading provides trades executed at the best possible prices and timely trade placement and also reduces human errors due to behavioral factors to a minimal. In this project we are going to analyse a very popular data set known as the Iris flower data set and talk about how it relates to machine learning. This multivariate data set includes 3 different species of iris flowers in which each species differs by the measurements of the petal and sepal. We are going to talk about and use multiple libraries in python for their statistical, organizational, and plotting abilities in order to enhance our understanding and predictions of the species of the Iris flower data set. We are also going to learn about the main requirements for wokring with data and how to describe data sets in machine learning terminology. \n",
    "\n",
    "* source: 1,2,3,4"
   ]
  },
  {
   "cell_type": "markdown",
   "metadata": {},
   "source": [
    "### Iris Biology\n",
    "\n",
    "Iris is a genus of 260–300 species of flowering plants with leafy garnish flowers and are known for their large, striking, colorful flowers. Irises are perennial plants, which  that live more than two years, and they grow into rhizomatous irises from  rhizomes/rootstocks or, in drier climates, into bulbous irises from bulbs/short stems. Irises grow natively in almost all temperate zones, including the Mediterranian area, Europe, North Africa, parts of Asia, and North America. An inflorescence is a group or cluster of flowers arranged on a stem that is composed of a main branch or a complicated arrangement of branches. The inflorescences are in the shape of a fan and contain two sets (petal and sepal) of 3 symmetrical leaves, therefore having a total of 6 leaves.  The inner three petals are referred to as “standards”. The outer three sepals, which look remarkably like petals, are called “falls”. There are three types of Iris flowers: setosa, virginica and versicolor. Our analysis goal is to predict the species of iris only given it's petal and sepal length and width.  \n",
    "\n",
    "\n",
    "### Iris Data set\n",
    "\n",
    "In 1936, Edgar Anderson collected the 150 samples of Iris flowers to quantify the dimension variation of three Iris flowers species. In the same year, a British statistician and biologist by the name of Ronald Fisher wrote a paper about the use of multiple measurements as an example of linear discriminant analysis. Linear discriminant analysis is a method used in statistics, pattern recognition and machine learning to find a linear combination of features that characterizes or separates two or more classes of objects or events. The data set consists of 50 samples from each of three species of Iris (setosa, virginica and versicolor). The following four features were measured from each sample: sepal length, sepal width, petal length and petal width, all in centimeters. Based on the combination of these four features, Fisher developed a linear discriminant model to distinguish the species from each other. Fisher framed this as a supervised learrning problem where we can predict the species of the iris only using it's measurements. This is supervised learning because we are trying to learn the relationship between the data (measurements) and the outcome (species of iris). If this was unlabeled data, meaning we only had the measurements of the iris and not the species, we would classify this as unsupervised learning by attempting to cluster the samples into meaningful groups (species). The iris data set gained recognition becuase it works out as a relatively easily supervised learning task comapred to other more complex data sets. There is a strong relationship between the measurements and the species and thus various machine learning models can accurately predict the species only given their measurements. Below is a visualization of the sepal and petal of an Iris flower.\n",
    "\n",
    "![](https://s3.amazonaws.com/assets.datacamp.com/blog_assets/Machine+Learning+R/iris-machinelearning.png)\n",
    "* source: s3.amazonaws.com/assets.datacamp.com/blog_assets/Machine+Learning+R/iris-machinelearning.png\n",
    "\n",
    "Python is a powerful program that contains numerous verstile machine learning libraries. We are going to import organisational, statistical, mathematical, and graphical libraries in order to optimize our data analysis. Many of these libraries work very well with each other which would allow us to have clean data that can easily be analyzed due to ability of easily carrying out mathematical computaions and discovering relationships graphically. Let's begin by importing the Iris data set which is available through the Seaborn module. \n",
    "\n",
    "* source: 5,6,7"
   ]
  },
  {
   "cell_type": "code",
   "execution_count": 53,
   "metadata": {
    "collapsed": true
   },
   "outputs": [],
   "source": [
    "import numpy as np\n",
    "import pandas as pd\n",
    "import matplotlib.pyplot as plt\n",
    "%matplotlib inline\n",
    "import seaborn as sns\n",
    "from sklearn import preprocessing"
   ]
  },
  {
   "cell_type": "code",
   "execution_count": 54,
   "metadata": {},
   "outputs": [
    {
     "data": {
      "text/html": [
       "<div>\n",
       "<style>\n",
       "    .dataframe thead tr:only-child th {\n",
       "        text-align: right;\n",
       "    }\n",
       "\n",
       "    .dataframe thead th {\n",
       "        text-align: left;\n",
       "    }\n",
       "\n",
       "    .dataframe tbody tr th {\n",
       "        vertical-align: top;\n",
       "    }\n",
       "</style>\n",
       "<table border=\"1\" class=\"dataframe\">\n",
       "  <thead>\n",
       "    <tr style=\"text-align: right;\">\n",
       "      <th></th>\n",
       "      <th>sepal_length</th>\n",
       "      <th>sepal_width</th>\n",
       "      <th>petal_length</th>\n",
       "      <th>petal_width</th>\n",
       "      <th>species</th>\n",
       "    </tr>\n",
       "  </thead>\n",
       "  <tbody>\n",
       "    <tr>\n",
       "      <th>0</th>\n",
       "      <td>5.1</td>\n",
       "      <td>3.5</td>\n",
       "      <td>1.4</td>\n",
       "      <td>0.2</td>\n",
       "      <td>setosa</td>\n",
       "    </tr>\n",
       "    <tr>\n",
       "      <th>1</th>\n",
       "      <td>4.9</td>\n",
       "      <td>3.0</td>\n",
       "      <td>1.4</td>\n",
       "      <td>0.2</td>\n",
       "      <td>setosa</td>\n",
       "    </tr>\n",
       "    <tr>\n",
       "      <th>2</th>\n",
       "      <td>4.7</td>\n",
       "      <td>3.2</td>\n",
       "      <td>1.3</td>\n",
       "      <td>0.2</td>\n",
       "      <td>setosa</td>\n",
       "    </tr>\n",
       "    <tr>\n",
       "      <th>3</th>\n",
       "      <td>4.6</td>\n",
       "      <td>3.1</td>\n",
       "      <td>1.5</td>\n",
       "      <td>0.2</td>\n",
       "      <td>setosa</td>\n",
       "    </tr>\n",
       "    <tr>\n",
       "      <th>4</th>\n",
       "      <td>5.0</td>\n",
       "      <td>3.6</td>\n",
       "      <td>1.4</td>\n",
       "      <td>0.2</td>\n",
       "      <td>setosa</td>\n",
       "    </tr>\n",
       "  </tbody>\n",
       "</table>\n",
       "</div>"
      ],
      "text/plain": [
       "   sepal_length  sepal_width  petal_length  petal_width species\n",
       "0           5.1          3.5           1.4          0.2  setosa\n",
       "1           4.9          3.0           1.4          0.2  setosa\n",
       "2           4.7          3.2           1.3          0.2  setosa\n",
       "3           4.6          3.1           1.5          0.2  setosa\n",
       "4           5.0          3.6           1.4          0.2  setosa"
      ]
     },
     "execution_count": 54,
     "metadata": {},
     "output_type": "execute_result"
    }
   ],
   "source": [
    "irisData = sns.load_dataset('iris')\n",
    "irisData.head()"
   ]
  },
  {
   "cell_type": "markdown",
   "metadata": {
    "collapsed": true
   },
   "source": [
    "We can see the data above in an organised table with labels. Each row represents an observation of one flower. The first four columns represent the measurements, and the last column represents the species of iris. Now that we have seen how the data looks like, we can start describing it's attributes in machine learning terminology. \n",
    "\n",
    "- The header row labels the data (sepal length and width, petal length and width, and species)\n",
    "- Each row is called an observation (also known as: sample, instance, record)\n",
    "- Each of column is called an feature (also know as: predictor, independent variable)\n",
    "- The last column is the value we want to predict (species). It is called the response (also known as: target, outcome, dependent variable)\n",
    "\n",
    "Thus, the iris data set has 150 obervations and 4 features; therefore we should have 150 rows, 4 feature columns, and 1 response column. This should add up the size of the table. We can confirm this by displaying the size of the table.  "
   ]
  },
  {
   "cell_type": "code",
   "execution_count": 55,
   "metadata": {},
   "outputs": [
    {
     "data": {
      "text/plain": [
       "(150, 5)"
      ]
     },
     "execution_count": 55,
     "metadata": {},
     "output_type": "execute_result"
    }
   ],
   "source": [
    "irisData.shape"
   ]
  },
  {
   "cell_type": "markdown",
   "metadata": {
    "collapsed": true
   },
   "source": [
    "Machine learning can be done by supervised or unsupervised learning. Supervised learning is the task of predicting an attribute/function from labeled training data. The training data consist of a set of training examples which we know to be true and therefore we can compare them to our predicitons. Machine leaning is supervised when we have training data with their corresponding desired outcome. Unsupervised learning is that of trying to find hidden underlying structure and/or relationships in unlabeled data. Since the examples given to the learner are unlabeled, there is no specific error or reward to evaluate a potential solution. Data mining is a field of study within machine learning, and focuses on exploratory data analysis through unsupervised learning. There are two types of supervised learning: classification and regression. \n",
    "\n",
    "- Classification: The response is catagorical; which means that it's values are fixed\n",
    "- Regression: The response is ordered and continous; which means it's values are changing on a time scale\n",
    "\n",
    "Data analysis approaches differ between different types of problems so it is important to identify what type of problem your data set represents. Prediciting the species of an iris is a catagorical problem since the iris flower cannot change from one species to another. In contrast, a regression problem is one where the response being predicted is not fixed, such as the price of a real estate, or the weight of a human.  \n",
    "\n",
    "Working with data requires a certain amount of polish in order for our plots and mathematical calculations to flow smoothly. Logically, there is some sort of format for data that would be optimal for efficient machine learning. Let's list some of the most important requirements for working with data\n",
    "\n",
    "1) All Features and their responses should be numeric\n",
    "\n",
    "2) Features and their response should be separate objects\n",
    "\n",
    "3) Features and their response should be NumPy arrays\n",
    "\n",
    "4) Features and their response should have the specific corresponding shapes\n",
    "\n",
    "Usually data sets would require a significant amount of cleaning up, but our data set is already meets all the above requierments, expect for the species not being numeric. Cleaning up is important so that we can get rid of irrelavent information and only focus on the data that is actually useful to our analysis. Some data sets may be missing values so we would have to fill those empty spaces with predicitions to have complete coherent data. We are not missing any vaules in the iris data set and all the data is useful; so the only change we have to make is to change the name of the species into the following corresponding numeric vales. This step is not necessary right now as we will not start our machine learning procees until after we explore some of the relationships between the data in order to get a better understanding of it. Let's plot some scatter plots of the iris dimensions and see if any information pops out to us. \n",
    "\n",
    "$\\textbf{Scatter Plot with Iris Dataset (Relationship between Septal and Petal Length and Width)}$"
   ]
  },
  {
   "cell_type": "code",
   "execution_count": 56,
   "metadata": {},
   "outputs": [
    {
     "data": {
      "text/plain": [
       "<seaborn.axisgrid.PairGrid at 0x1a158656a0>"
      ]
     },
     "execution_count": 56,
     "metadata": {},
     "output_type": "execute_result"
    },
    {
     "data": {
      "image/png": "[encoded data removed]",
      "text/plain": [
       "<matplotlib.figure.Figure at 0x1a15865c18>"
      ]
     },
     "metadata": {},
     "output_type": "display_data"
    }
   ],
   "source": [
    "sns.pairplot(irisData,hue= 'species',x_vars=[\"sepal_width\", \"sepal_length\"], y_vars=[\"petal_width\", \"petal_length\"], markers=[\"x\", \"s\", \"o\"], palette='husl')"
   ]
  },
  {
   "cell_type": "markdown",
   "metadata": {},
   "source": [
    "We can see a distinction between the petal and sepal measurements. We can tell apart each species by the measurements as the setosa obervations are clearly sperated from and the veriscolor and virginica observations. The versicolor and viriginca obervations are close to each other but show some deviation in opposite directions. Virginica has the biggest petal length and width since most of the obervations lay on the top of the graph while setosa has the smallest petal length and width since all the obervations lay on the bottom of the graph. The Versicolor observations lay in the central area of the graph which indicates that it does not have the longest petal and septal length and widh, but neither does it have the smallest meaurements; which means it has the most well rounded dimensions. Now let's use a boxplot for each meaurement and compare our results. \n",
    "\n",
    "$\\textbf{Box Plot with Iris Dataset (Relationship between Petal Length and Width)}$"
   ]
  },
  {
   "cell_type": "code",
   "execution_count": 57,
   "metadata": {},
   "outputs": [
    {
     "data": {
      "text/plain": [
       "<matplotlib.axes._subplots.AxesSubplot at 0x1a15ad53c8>"
      ]
     },
     "execution_count": 57,
     "metadata": {},
     "output_type": "execute_result"
    },
    {
     "data": {
      "image/png": "[encoded data removed]",
      "text/plain": [
       "<matplotlib.figure.Figure at 0x1a15ac0c88>"
      ]
     },
     "metadata": {},
     "output_type": "display_data"
    }
   ],
   "source": [
    "sns.boxplot(x=\"species\", y=\"petal_length\", data=irisData,palette='rainbow')"
   ]
  },
  {
   "cell_type": "code",
   "execution_count": 58,
   "metadata": {},
   "outputs": [
    {
     "data": {
      "text/plain": [
       "<matplotlib.axes._subplots.AxesSubplot at 0x1a15865c50>"
      ]
     },
     "execution_count": 58,
     "metadata": {},
     "output_type": "execute_result"
    },
    {
     "data": {
      "image/png": "[encoded data removed]",
      "text/plain": [
       "<matplotlib.figure.Figure at 0x1a15d7bf28>"
      ]
     },
     "metadata": {},
     "output_type": "display_data"
    }
   ],
   "source": [
    "sns.boxplot(x=\"species\", y=\"petal_width\", data=irisData,palette='rainbow')"
   ]
  },
  {
   "cell_type": "markdown",
   "metadata": {
    "collapsed": true
   },
   "source": [
    "The box plots of the petal measurements clearly show that the virginica species have the largest petal length and width. Versicolor petal measurements fall into the middle of the virignica and setosa which are the largest and smallest respectively. Let's take a look at the box plot for the sepal measurements now.   \n",
    "\n",
    "$\\textbf{Box Plot with Iris Dataset (Relationship between Sepal Length and Width)}$"
   ]
  },
  {
   "cell_type": "code",
   "execution_count": 59,
   "metadata": {},
   "outputs": [
    {
     "data": {
      "text/plain": [
       "<matplotlib.axes._subplots.AxesSubplot at 0x1a15bc0320>"
      ]
     },
     "execution_count": 59,
     "metadata": {},
     "output_type": "execute_result"
    },
    {
     "data": {
      "image/png": "[encoded data removed]",
      "text/plain": [
       "<matplotlib.figure.Figure at 0x1a15d6e7b8>"
      ]
     },
     "metadata": {},
     "output_type": "display_data"
    }
   ],
   "source": [
    "sns.boxplot(x=\"species\", y=\"sepal_length\", data=irisData,palette='rainbow')"
   ]
  },
  {
   "cell_type": "code",
   "execution_count": 60,
   "metadata": {},
   "outputs": [
    {
     "data": {
      "text/plain": [
       "<matplotlib.axes._subplots.AxesSubplot at 0x1a15eb15c0>"
      ]
     },
     "execution_count": 60,
     "metadata": {},
     "output_type": "execute_result"
    },
    {
     "data": {
      "image/png": "[encoded data removed]",
      "text/plain": [
       "<matplotlib.figure.Figure at 0x1a13216898>"
      ]
     },
     "metadata": {},
     "output_type": "display_data"
    }
   ],
   "source": [
    "sns.boxplot(x=\"species\", y=\"sepal_width\", data=irisData,palette='rainbow')"
   ]
  },
  {
   "cell_type": "markdown",
   "metadata": {},
   "source": [
    "The box plots of the petal measurements show that the virginica species have the largest petal length and the setosa have the largest sepal width. The versicolor sepal lenght falls into the middle of the virignica and setosa, but the versicolor sepal width is the smaller than the virigina ans setosa speal width. Now that we have a basic understanding of how the measurements of each species differ, we can look at each species charateristics to futher enhance our understanding of the data."
   ]
  },
  {
   "cell_type": "code",
   "execution_count": 79,
   "metadata": {},
   "outputs": [
    {
     "data": {
      "text/html": [
       "<div>\n",
       "<style>\n",
       "    .dataframe thead tr:only-child th {\n",
       "        text-align: right;\n",
       "    }\n",
       "\n",
       "    .dataframe thead th {\n",
       "        text-align: left;\n",
       "    }\n",
       "\n",
       "    .dataframe tbody tr th {\n",
       "        vertical-align: top;\n",
       "    }\n",
       "</style>\n",
       "<table border=\"1\" class=\"dataframe\">\n",
       "  <thead>\n",
       "    <tr style=\"text-align: right;\">\n",
       "      <th></th>\n",
       "      <th>sepal_length</th>\n",
       "      <th>sepal_width</th>\n",
       "      <th>petal_length</th>\n",
       "      <th>petal_width</th>\n",
       "    </tr>\n",
       "  </thead>\n",
       "  <tbody>\n",
       "    <tr>\n",
       "      <th>count</th>\n",
       "      <td>50.00000</td>\n",
       "      <td>50.000000</td>\n",
       "      <td>50.000000</td>\n",
       "      <td>50.000000</td>\n",
       "    </tr>\n",
       "    <tr>\n",
       "      <th>mean</th>\n",
       "      <td>5.00600</td>\n",
       "      <td>3.428000</td>\n",
       "      <td>1.462000</td>\n",
       "      <td>0.246000</td>\n",
       "    </tr>\n",
       "    <tr>\n",
       "      <th>std</th>\n",
       "      <td>0.35249</td>\n",
       "      <td>0.379064</td>\n",
       "      <td>0.173664</td>\n",
       "      <td>0.105386</td>\n",
       "    </tr>\n",
       "    <tr>\n",
       "      <th>min</th>\n",
       "      <td>4.30000</td>\n",
       "      <td>2.300000</td>\n",
       "      <td>1.000000</td>\n",
       "      <td>0.100000</td>\n",
       "    </tr>\n",
       "    <tr>\n",
       "      <th>25%</th>\n",
       "      <td>4.80000</td>\n",
       "      <td>3.200000</td>\n",
       "      <td>1.400000</td>\n",
       "      <td>0.200000</td>\n",
       "    </tr>\n",
       "    <tr>\n",
       "      <th>50%</th>\n",
       "      <td>5.00000</td>\n",
       "      <td>3.400000</td>\n",
       "      <td>1.500000</td>\n",
       "      <td>0.200000</td>\n",
       "    </tr>\n",
       "    <tr>\n",
       "      <th>75%</th>\n",
       "      <td>5.20000</td>\n",
       "      <td>3.675000</td>\n",
       "      <td>1.575000</td>\n",
       "      <td>0.300000</td>\n",
       "    </tr>\n",
       "    <tr>\n",
       "      <th>max</th>\n",
       "      <td>5.80000</td>\n",
       "      <td>4.400000</td>\n",
       "      <td>1.900000</td>\n",
       "      <td>0.600000</td>\n",
       "    </tr>\n",
       "  </tbody>\n",
       "</table>\n",
       "</div>"
      ],
      "text/plain": [
       "       sepal_length  sepal_width  petal_length  petal_width\n",
       "count      50.00000    50.000000     50.000000    50.000000\n",
       "mean        5.00600     3.428000      1.462000     0.246000\n",
       "std         0.35249     0.379064      0.173664     0.105386\n",
       "min         4.30000     2.300000      1.000000     0.100000\n",
       "25%         4.80000     3.200000      1.400000     0.200000\n",
       "50%         5.00000     3.400000      1.500000     0.200000\n",
       "75%         5.20000     3.675000      1.575000     0.300000\n",
       "max         5.80000     4.400000      1.900000     0.600000"
      ]
     },
     "execution_count": 79,
     "metadata": {},
     "output_type": "execute_result"
    }
   ],
   "source": [
    "irisDatasetosa = irisData.iloc[0:50]\n",
    "irisDatasetosa.describe()"
   ]
  },
  {
   "cell_type": "markdown",
   "metadata": {},
   "source": [
    "Above we have the characteristics of the setosa species. The mean is the most complete characterisitc of the meaurements. Let's list down the means of the species measurements and compare them\n",
    "\n",
    "Setosa:\n",
    "\n",
    "- Sepal length: 5.006 cm\n",
    "- Sepal width: 3.428 cm\n",
    "- Petal length: 1.462 cm\n",
    "- Petal width: 0.246cm"
   ]
  },
  {
   "cell_type": "code",
   "execution_count": 88,
   "metadata": {},
   "outputs": [
    {
     "data": {
      "text/html": [
       "<div>\n",
       "<style>\n",
       "    .dataframe thead tr:only-child th {\n",
       "        text-align: right;\n",
       "    }\n",
       "\n",
       "    .dataframe thead th {\n",
       "        text-align: left;\n",
       "    }\n",
       "\n",
       "    .dataframe tbody tr th {\n",
       "        vertical-align: top;\n",
       "    }\n",
       "</style>\n",
       "<table border=\"1\" class=\"dataframe\">\n",
       "  <thead>\n",
       "    <tr style=\"text-align: right;\">\n",
       "      <th></th>\n",
       "      <th>sepal_length</th>\n",
       "      <th>sepal_width</th>\n",
       "      <th>petal_length</th>\n",
       "      <th>petal_width</th>\n",
       "    </tr>\n",
       "  </thead>\n",
       "  <tbody>\n",
       "    <tr>\n",
       "      <th>count</th>\n",
       "      <td>50.000000</td>\n",
       "      <td>50.000000</td>\n",
       "      <td>50.000000</td>\n",
       "      <td>50.000000</td>\n",
       "    </tr>\n",
       "    <tr>\n",
       "      <th>mean</th>\n",
       "      <td>5.936000</td>\n",
       "      <td>2.770000</td>\n",
       "      <td>4.260000</td>\n",
       "      <td>1.326000</td>\n",
       "    </tr>\n",
       "    <tr>\n",
       "      <th>std</th>\n",
       "      <td>0.516171</td>\n",
       "      <td>0.313798</td>\n",
       "      <td>0.469911</td>\n",
       "      <td>0.197753</td>\n",
       "    </tr>\n",
       "    <tr>\n",
       "      <th>min</th>\n",
       "      <td>4.900000</td>\n",
       "      <td>2.000000</td>\n",
       "      <td>3.000000</td>\n",
       "      <td>1.000000</td>\n",
       "    </tr>\n",
       "    <tr>\n",
       "      <th>25%</th>\n",
       "      <td>5.600000</td>\n",
       "      <td>2.525000</td>\n",
       "      <td>4.000000</td>\n",
       "      <td>1.200000</td>\n",
       "    </tr>\n",
       "    <tr>\n",
       "      <th>50%</th>\n",
       "      <td>5.900000</td>\n",
       "      <td>2.800000</td>\n",
       "      <td>4.350000</td>\n",
       "      <td>1.300000</td>\n",
       "    </tr>\n",
       "    <tr>\n",
       "      <th>75%</th>\n",
       "      <td>6.300000</td>\n",
       "      <td>3.000000</td>\n",
       "      <td>4.600000</td>\n",
       "      <td>1.500000</td>\n",
       "    </tr>\n",
       "    <tr>\n",
       "      <th>max</th>\n",
       "      <td>7.000000</td>\n",
       "      <td>3.400000</td>\n",
       "      <td>5.100000</td>\n",
       "      <td>1.800000</td>\n",
       "    </tr>\n",
       "  </tbody>\n",
       "</table>\n",
       "</div>"
      ],
      "text/plain": [
       "       sepal_length  sepal_width  petal_length  petal_width\n",
       "count     50.000000    50.000000     50.000000    50.000000\n",
       "mean       5.936000     2.770000      4.260000     1.326000\n",
       "std        0.516171     0.313798      0.469911     0.197753\n",
       "min        4.900000     2.000000      3.000000     1.000000\n",
       "25%        5.600000     2.525000      4.000000     1.200000\n",
       "50%        5.900000     2.800000      4.350000     1.300000\n",
       "75%        6.300000     3.000000      4.600000     1.500000\n",
       "max        7.000000     3.400000      5.100000     1.800000"
      ]
     },
     "execution_count": 88,
     "metadata": {},
     "output_type": "execute_result"
    }
   ],
   "source": [
    "irisDataversicolor = irisData.iloc[50:100]\n",
    "irisDataversicolor.describe()"
   ]
  },
  {
   "cell_type": "markdown",
   "metadata": {},
   "source": [
    "Versicolor:\n",
    "\n",
    "- Sepal length: 5.936 cm\n",
    "- Sepal width: 2.77 cm\n",
    "- Petal length: 4.26 cm\n",
    "- Petal width: 1.326 cm"
   ]
  },
  {
   "cell_type": "code",
   "execution_count": 89,
   "metadata": {},
   "outputs": [
    {
     "data": {
      "text/html": [
       "<div>\n",
       "<style>\n",
       "    .dataframe thead tr:only-child th {\n",
       "        text-align: right;\n",
       "    }\n",
       "\n",
       "    .dataframe thead th {\n",
       "        text-align: left;\n",
       "    }\n",
       "\n",
       "    .dataframe tbody tr th {\n",
       "        vertical-align: top;\n",
       "    }\n",
       "</style>\n",
       "<table border=\"1\" class=\"dataframe\">\n",
       "  <thead>\n",
       "    <tr style=\"text-align: right;\">\n",
       "      <th></th>\n",
       "      <th>sepal_length</th>\n",
       "      <th>sepal_width</th>\n",
       "      <th>petal_length</th>\n",
       "      <th>petal_width</th>\n",
       "    </tr>\n",
       "  </thead>\n",
       "  <tbody>\n",
       "    <tr>\n",
       "      <th>count</th>\n",
       "      <td>50.00000</td>\n",
       "      <td>50.000000</td>\n",
       "      <td>50.000000</td>\n",
       "      <td>50.00000</td>\n",
       "    </tr>\n",
       "    <tr>\n",
       "      <th>mean</th>\n",
       "      <td>6.58800</td>\n",
       "      <td>2.974000</td>\n",
       "      <td>5.552000</td>\n",
       "      <td>2.02600</td>\n",
       "    </tr>\n",
       "    <tr>\n",
       "      <th>std</th>\n",
       "      <td>0.63588</td>\n",
       "      <td>0.322497</td>\n",
       "      <td>0.551895</td>\n",
       "      <td>0.27465</td>\n",
       "    </tr>\n",
       "    <tr>\n",
       "      <th>min</th>\n",
       "      <td>4.90000</td>\n",
       "      <td>2.200000</td>\n",
       "      <td>4.500000</td>\n",
       "      <td>1.40000</td>\n",
       "    </tr>\n",
       "    <tr>\n",
       "      <th>25%</th>\n",
       "      <td>6.22500</td>\n",
       "      <td>2.800000</td>\n",
       "      <td>5.100000</td>\n",
       "      <td>1.80000</td>\n",
       "    </tr>\n",
       "    <tr>\n",
       "      <th>50%</th>\n",
       "      <td>6.50000</td>\n",
       "      <td>3.000000</td>\n",
       "      <td>5.550000</td>\n",
       "      <td>2.00000</td>\n",
       "    </tr>\n",
       "    <tr>\n",
       "      <th>75%</th>\n",
       "      <td>6.90000</td>\n",
       "      <td>3.175000</td>\n",
       "      <td>5.875000</td>\n",
       "      <td>2.30000</td>\n",
       "    </tr>\n",
       "    <tr>\n",
       "      <th>max</th>\n",
       "      <td>7.90000</td>\n",
       "      <td>3.800000</td>\n",
       "      <td>6.900000</td>\n",
       "      <td>2.50000</td>\n",
       "    </tr>\n",
       "  </tbody>\n",
       "</table>\n",
       "</div>"
      ],
      "text/plain": [
       "       sepal_length  sepal_width  petal_length  petal_width\n",
       "count      50.00000    50.000000     50.000000     50.00000\n",
       "mean        6.58800     2.974000      5.552000      2.02600\n",
       "std         0.63588     0.322497      0.551895      0.27465\n",
       "min         4.90000     2.200000      4.500000      1.40000\n",
       "25%         6.22500     2.800000      5.100000      1.80000\n",
       "50%         6.50000     3.000000      5.550000      2.00000\n",
       "75%         6.90000     3.175000      5.875000      2.30000\n",
       "max         7.90000     3.800000      6.900000      2.50000"
      ]
     },
     "execution_count": 89,
     "metadata": {},
     "output_type": "execute_result"
    }
   ],
   "source": [
    "irisDatavirginica = irisData.iloc[100:150]\n",
    "irisDatavirginica.describe()"
   ]
  },
  {
   "cell_type": "markdown",
   "metadata": {},
   "source": [
    "Virginica:\n",
    "\n",
    "- Sepal length: 6.588 cm\n",
    "- Sepal width: 2.974 cm\n",
    "- Petal length: 5.552 cm\n",
    "- Petal width: 2.026 cm\n",
    "\n",
    "The results reflect our previous discoveries! Virginica has the largest sepal length, petal length and width. The setosa has the largest sepal width but the smallest sepal length, petal length and width. While the veriscolor species measurements lay in between those maximum and minimum values of the virginica and setosa species. "
   ]
  },
  {
   "cell_type": "markdown",
   "metadata": {},
   "source": [
    "### Machine Learning\n",
    "\n",
    "Machine learning is the study of algorithms and statistical models that computer systems use to progressively improve their performance on a certain tasks (automate tasks). Machine learning algorithms build a mathematical model of the sample data, known as \"training data\", in order to make predictions or decisions (about the \"testing data\") without being specifically programmed to perform the task. Machine learning algorithms are used in the proccess of email filtering, detection of network viruses/intruders; where it is not possible to develop an algorithm of specific instructions for a performing a task that would differ each time it is carried out. Machine learning is closely related to computational statistics, which focuses on making predictions using computers. Mathematical optimization is the selection of a best element (with regard to some criterion) from some set of available alternatives.\n",
    "An optimization problem consists of maximizing or minimizing a real function by systematically choosing input values from within an allowed set and computing the value of the function. The generalization of optimization theory and techniques to other formulations constitutes a large area of applied mathematics. More generally, optimization includes finding \"best available\" values of some objective function given a defined domain (or input), including a variety of different types of objective functions and different types of domains.The study of mathematical optimization applies to the field of machine learning. Machine learning tasks are classified into several broad categories (supervised or unsupervised), which we discussed earlier. Classification algorithms and regression algorithms are two types of supervised learning which we also discussed earlier and came to the conclusion that the iris data set is a classification supervised learning problem. The purpose of machine learning is to build predicitive models that can be trained using data to make predictions when they are fed new data. \n",
    "\n",
    "We have used machine learning on previous project through  linear regression and least squares. Is a part of machine learning, since we used data and trained a model using that data. We used it for numerical data. but we have categorical data here. This problem does not predict a number; It predicts a category. The category we want to predict is the species of iris. Let's explore the k- neareast neighbors algorithm method for machine learning. \n",
    "\n",
    "* source: 8\n",
    "\n",
    "### K-Nearest Neighbors (KNN)\n",
    "\n",
    "The k-nearest neighbors algorithm is a non-parametric method used for classification and regression in pattern recognition. Nonparametric statistics is the branch of statistics that is not based solely on parameters of the probability distributions (examples of parameters are the mean and variance).  The input consists of the k closest training examples in the feature space. The vector space associated with these vectors is often called the feature space. Our data set is 2-dimensions since we are testing 2 variables (measurements and species). The application of KNN is the simplest machine learning algorithm as it uses basic arithmetic mathematics to classify the data instead of complicated mathematical models. k-NN is a type of instance-based learning, or lazy learning, where the function is only approximated locally and all computation is deferred until classification. \n",
    "\n",
    "- In KNN classification: the output is a class member(label). An object is classified by a majority vote of its neighbors, with the object being assigned to the class most common among its k nearest neighbors (k is a positive integer).\n",
    "\n",
    "- In k-NN regression: the output is the property value for the object. This value is the average of the values of its k nearest neighbor\n",
    "\n",
    "\n",
    "\n",
    "Since the iris data set is a classification problem, we will be using KNN classification. These are the following steps required to carry out the KNN classification\n",
    "\n",
    "1. Pick a value of k. For example: If k = 1, then the object is simply assigned to the class of that single nearest neighbor. \n",
    "2. Search for the k obervations that are neareast to the measurements of the unknown iris. \n",
    "3. Use the most popular response value from the k nearst negihbors as the predicted response for the unknown iris\n",
    "\n",
    "In order words, the model calculates the numerical distance between the unknown iris and each of the 150 known iris and selected the k (neareast) known iris with the smallest distance to the unknown iris. The distance between the k neareast neighbors are added up, and whichever k responses have the smallest aggregate distance to the unknown iris would be used as the predicited response value for the unknown iris. Let's look at a few visualizations to make this algorthim more clear. Let's use the example data below set with 2 numerical features (represented by the X and Y coordinates) and with 3 different response classes (represented by the colors: red,blue, or green) to demonstrate how this technique works.  \n",
    "\n",
    "![](https://upload.wikimedia.org/wikipedia/commons/c/cc/Data3classes.png)\n",
    "\n",
    "* source: https://upload.wikimedia.org/wikipedia/commons/c/cc/Data3classes.png\n",
    "\n",
    "$\\textbf{ KNN classification map for K=1}$\n",
    "\n",
    "![](https://upload.wikimedia.org/wikipedia/commons/5/52/Map1NN.png)\n",
    "\n",
    "* source: https://upload.wikimedia.org/wikipedia/commons/5/52/Map1NN.png\n",
    "\n",
    "The backgroud of the diagram is colored red for all areas in which the nearest neighbor is red. Color blue for all areas in which the nearest neighbor is blue and colored green for all areas in which the nearest neighbor is green. In other words, the backgroud color tells us what the predicited response value would be for a new obervations depending on it's x and y feaures. As we could imagine, the KNN classification map is going to differ for different values of K since we are considering a different number of nearest neighbors. Let's take a look at a different value of k.  \n",
    "\n",
    "$\\textbf{ KNN classification map for K=5}$\n",
    "\n",
    "![](https://upload.wikimedia.org/wikipedia/commons/8/8c/Map5NN.png)\n",
    "\n",
    "* source: https://upload.wikimedia.org/wikipedia/commons/8/8c/Map5NN.png\n",
    "\n",
    "Here we have a KNN classification map in which the k value is 5. We can see that the boundaries between colors (known as the decision boundaries) changed because more neighbors are taken into account when making predictions. The predicited response obervations has changed in many areas of the map due to changing the value of k. The white areas represent areas in which KNN cannot make a clear decision because there is a tie between two classes. KNN is a simple machine learning algorthim but it can make highly accuarate predicitions if the different classes in the data set have very dissimilar feature values. Since we have discovered that most of the iris features are dissimilar, this is a good method to use to predicit the iris species. First, we will need to clean up our data (like we mentioned earlier) and pre-process it. This is availbale through sci-kit learns.\n",
    "\n",
    "* source: 9,10,11"
   ]
  },
  {
   "cell_type": "code",
   "execution_count": 90,
   "metadata": {},
   "outputs": [
    {
     "data": {
      "text/html": [
       "<div>\n",
       "<style>\n",
       "    .dataframe thead tr:only-child th {\n",
       "        text-align: right;\n",
       "    }\n",
       "\n",
       "    .dataframe thead th {\n",
       "        text-align: left;\n",
       "    }\n",
       "\n",
       "    .dataframe tbody tr th {\n",
       "        vertical-align: top;\n",
       "    }\n",
       "</style>\n",
       "<table border=\"1\" class=\"dataframe\">\n",
       "  <thead>\n",
       "    <tr style=\"text-align: right;\">\n",
       "      <th></th>\n",
       "      <th>sepal_length</th>\n",
       "      <th>sepal_width</th>\n",
       "      <th>petal_length</th>\n",
       "      <th>petal_width</th>\n",
       "      <th>species</th>\n",
       "    </tr>\n",
       "  </thead>\n",
       "  <tbody>\n",
       "    <tr>\n",
       "      <th>0</th>\n",
       "      <td>5.1</td>\n",
       "      <td>3.5</td>\n",
       "      <td>1.4</td>\n",
       "      <td>0.2</td>\n",
       "      <td>0</td>\n",
       "    </tr>\n",
       "    <tr>\n",
       "      <th>1</th>\n",
       "      <td>4.9</td>\n",
       "      <td>3.0</td>\n",
       "      <td>1.4</td>\n",
       "      <td>0.2</td>\n",
       "      <td>0</td>\n",
       "    </tr>\n",
       "    <tr>\n",
       "      <th>2</th>\n",
       "      <td>4.7</td>\n",
       "      <td>3.2</td>\n",
       "      <td>1.3</td>\n",
       "      <td>0.2</td>\n",
       "      <td>0</td>\n",
       "    </tr>\n",
       "    <tr>\n",
       "      <th>3</th>\n",
       "      <td>4.6</td>\n",
       "      <td>3.1</td>\n",
       "      <td>1.5</td>\n",
       "      <td>0.2</td>\n",
       "      <td>0</td>\n",
       "    </tr>\n",
       "    <tr>\n",
       "      <th>4</th>\n",
       "      <td>5.0</td>\n",
       "      <td>3.6</td>\n",
       "      <td>1.4</td>\n",
       "      <td>0.2</td>\n",
       "      <td>0</td>\n",
       "    </tr>\n",
       "  </tbody>\n",
       "</table>\n",
       "</div>"
      ],
      "text/plain": [
       "   sepal_length  sepal_width  petal_length  petal_width  species\n",
       "0           5.1          3.5           1.4          0.2        0\n",
       "1           4.9          3.0           1.4          0.2        0\n",
       "2           4.7          3.2           1.3          0.2        0\n",
       "3           4.6          3.1           1.5          0.2        0\n",
       "4           5.0          3.6           1.4          0.2        0"
      ]
     },
     "execution_count": 90,
     "metadata": {},
     "output_type": "execute_result"
    }
   ],
   "source": [
    "le = preprocessing.LabelEncoder()\n",
    "irisData['species'] = le.fit_transform(irisData['species'])\n",
    "irisData.head()"
   ]
  },
  {
   "cell_type": "markdown",
   "metadata": {},
   "source": [
    "Now we need to split the data into the features and the prediction labels. We need to create arrays $X$ and $y$ separately in order to do the fits. Let us separate the data into the variable to be predicted and the predictors."
   ]
  },
  {
   "cell_type": "code",
   "execution_count": 93,
   "metadata": {
    "collapsed": true
   },
   "outputs": [],
   "source": [
    "X = irisData.drop(['species'], axis=1)\n",
    "y = irisData['species']"
   ]
  },
  {
   "cell_type": "markdown",
   "metadata": {},
   "source": [
    "$X$ reprsents our obervations and $y$ represents the species. We can confirm this by viewing the size of both matricies."
   ]
  },
  {
   "cell_type": "code",
   "execution_count": 95,
   "metadata": {},
   "outputs": [
    {
     "name": "stdout",
     "output_type": "stream",
     "text": [
      "(150, 4)\n",
      "(150,)\n"
     ]
    }
   ],
   "source": [
    "print (X.shape)\n",
    "print (y.shape)"
   ]
  },
  {
   "cell_type": "markdown",
   "metadata": {},
   "source": [
    "This makes sense because we have 150 obervations with 4 features each for $X$. For the $y$ we have 150 species that label the observations. \n",
    "\n",
    "If we use all the data at hand, we have two disadvantages. First, we won't have data to test our model immediately. Second, we can overtrain our model because it can be too specific to the model we had. We have to test the model to see whether it performs without bias. This issue is called bias-variance tradeoff. We will split up the data set into training and testing data. We will keep a lot of data for training the model. But we will keep some of it aside to test our model. We will need to be careful about how we do this. The sampling has to be done randomly. We cannot introduce bias into either dataset. This process is called cross-validation. We use a built-in function in scikit-learn for this called `test_train_split()`. Let us choose a 70-30 split of the data (selected randomly) for training and testing. "
   ]
  },
  {
   "cell_type": "code",
   "execution_count": 122,
   "metadata": {
    "collapsed": true
   },
   "outputs": [],
   "source": [
    "from sklearn.model_selection import train_test_split\n",
    "X_train, X_test, y_train, y_test = train_test_split(X, y, test_size=0.30)"
   ]
  },
  {
   "cell_type": "markdown",
   "metadata": {},
   "source": [
    "Now we are ready to start the actual machine learning process. First we have to import the KNN classification we plan to use which is available through sci-kit learn. The second step is to instantiate the estimator. This is means we need to create an instance of the k neaighbors classifies class. Let's use k=1"
   ]
  },
  {
   "cell_type": "code",
   "execution_count": 98,
   "metadata": {
    "collapsed": true
   },
   "outputs": [],
   "source": [
    "from sklearn.neighbors import KNeighborsClassifier \n",
    "knn = KNeighborsClassifier(n_neighbors=1)"
   ]
  },
  {
   "cell_type": "markdown",
   "metadata": {},
   "source": [
    "We have now created an instance of the k neighbors classifier class and named it knn. In order words, we now have an object called knn that knows how to do k neareast neighbors classification and is awaiting us to feed it with data.\n",
    "Now we have to fit the model with data which also known as \"model training\". This is the step in which the model learns the relationship between the features and the response. We will use the 'fit' command and pass it two object: feature matrix $X$ and the response matrix $y$."
   ]
  },
  {
   "cell_type": "code",
   "execution_count": 119,
   "metadata": {},
   "outputs": [
    {
     "data": {
      "text/plain": [
       "KNeighborsClassifier(algorithm='auto', leaf_size=30, metric='minkowski',\n",
       "           metric_params=None, n_jobs=1, n_neighbors=1, p=2,\n",
       "           weights='uniform')"
      ]
     },
     "execution_count": 119,
     "metadata": {},
     "output_type": "execute_result"
    }
   ],
   "source": [
    "knn.fit(X_train,y_train)"
   ]
  },
  {
   "cell_type": "markdown",
   "metadata": {},
   "source": [
    "The final step is to make predictions for new obersvations. In other words, we are going to import the measurements for an unknown iris and asking the fitted model to predict the iris species based on what it has learned in the previous step. We need to keep in mind that 0 represents setosa, 1 represents versicolor, and 2 represetns virginica."
   ]
  },
  {
   "cell_type": "code",
   "execution_count": 127,
   "metadata": {},
   "outputs": [
    {
     "data": {
      "text/plain": [
       "array([0])"
      ]
     },
     "execution_count": 127,
     "metadata": {},
     "output_type": "execute_result"
    }
   ],
   "source": [
    "knn.predict([[1,1,1,1]])"
   ]
  },
  {
   "cell_type": "markdown",
   "metadata": {},
   "source": [
    "This KNN classification for k=1 made the prediction for a iris with the measurements 1,1,1,1 to be setosa. This makes sense since we saw that the setosa species is the smallest one. Let's try this for other measurements."
   ]
  },
  {
   "cell_type": "code",
   "execution_count": 128,
   "metadata": {},
   "outputs": [
    {
     "data": {
      "text/plain": [
       "array([2])"
      ]
     },
     "execution_count": 128,
     "metadata": {},
     "output_type": "execute_result"
    }
   ],
   "source": [
    "knn.predict([[6,5,4,3]])"
   ]
  },
  {
   "cell_type": "markdown",
   "metadata": {},
   "source": [
    "This KNN classification for k=1 made the prediction for a iris with the measurements 6,5,4,3 to be virginica. This makes sense since we saw that the viriginica species is the largest one. For better preicison, we should use a larger value of k. Now our model will give us accurate predictions using the value k=5. "
   ]
  },
  {
   "cell_type": "code",
   "execution_count": 130,
   "metadata": {},
   "outputs": [
    {
     "data": {
      "text/plain": [
       "array([1])"
      ]
     },
     "execution_count": 130,
     "metadata": {},
     "output_type": "execute_result"
    }
   ],
   "source": [
    "knn = KNeighborsClassifier(n_neighbors=5)\n",
    "knn.fit(X_train, y_train)\n",
    "knn.predict([[3,5,4,2]])"
   ]
  },
  {
   "cell_type": "markdown",
   "metadata": {},
   "source": [
    "Now, we will verfiy the predictions against the original known values of species using a confusion matrix.  The field of machine learning and specifically the problem of statistical classification, a confusion matrix, also known as an error matrix. We can have 2 types of preidictions that we obtained as explained in the table below. The format is as follows\n",
    "\n",
    "|                  | Correct species | Incorrect species      |\n",
    "|------------------|-----------------|-----------------|\n",
    "|**Predicted species**|  True positive | False positives |  \n",
    "\n",
    "\n",
    "We can also look at the classification report which calculates the precision, recall and f-score. \n",
    "\n",
    "$$precision = \\frac{total \\ true \\ positives}{total \\ true \\ positives + total \\ false \\ positives},$$\n",
    "\n",
    "$$ recall = \\frac{total \\ true \\ positives}{total \\ true \\ positives + total \\ false \\ negatives}$$\n",
    "\n",
    "and \n",
    "\n",
    "$$f_1 \\ score = 2 \\ \\frac{precision\\times recall}{precision + recall}$$\n",
    "\n",
    "We will import it from scikit-learn and use to it to verfiy the predictions against the original known values of species.\n",
    "\n",
    "* source: 12"
   ]
  },
  {
   "cell_type": "code",
   "execution_count": 136,
   "metadata": {},
   "outputs": [
    {
     "name": "stdout",
     "output_type": "stream",
     "text": [
      "[[19  0  0]\n",
      " [ 0 16  0]\n",
      " [ 0  0 10]]\n"
     ]
    }
   ],
   "source": [
    "from sklearn.metrics import confusion_matrix\n",
    "predictions = knn.predict(X_test)\n",
    "print(confusion_matrix(y_test, predictions))"
   ]
  },
  {
   "cell_type": "markdown",
   "metadata": {},
   "source": [
    "We can carry out the calculations for precision, recall, and f1 score using sk-learn."
   ]
  },
  {
   "cell_type": "code",
   "execution_count": 137,
   "metadata": {},
   "outputs": [
    {
     "name": "stdout",
     "output_type": "stream",
     "text": [
      "             precision    recall  f1-score   support\n",
      "\n",
      "          0       1.00      1.00      1.00        19\n",
      "          1       1.00      1.00      1.00        16\n",
      "          2       1.00      1.00      1.00        10\n",
      "\n",
      "avg / total       1.00      1.00      1.00        45\n",
      "\n"
     ]
    }
   ],
   "source": [
    "from sklearn.metrics import classification_report \n",
    "\n",
    "print(classification_report(y_test, predictions))"
   ]
  },
  {
   "cell_type": "markdown",
   "metadata": {},
   "source": [
    "This shows us that our predictions are 100% accurate using a value of k=5 and therefore conclude our analysis."
   ]
  },
  {
   "cell_type": "markdown",
   "metadata": {},
   "source": [
    "## Conclusion\n",
    "\n",
    "The field of data science has been growing rapidly due it's huge influence on many aspects of our everday life. Data anaylsis is used order to boost our knowledge about important unknown aspects of the future. The process of using previous known data to formulate patterns and predicitions about future unknown situations can be used in almost any field in which data is available. We used Machine learning algorithms build a mathematical model of collected sample data, known as \"training data\", in order to make automated predictions or decisions. An example of machine learning is developing a computer programs that automate the data analysis processes. We learned the basic terminology for machione learning which can appear as supervised or unsupervised problem. We described the two types of supervised learning We carried out data analysis for the famous iris data set which was used as a benchmark for many famous popular statistical methods like Fisher's linear discriminant anaylsis. We learned that python is a powerful program that contains numerous verstile machine learning libraries. We are going to import organisational, statistical, mathematical, and graphical libraries in order to optimize our data analysis. Many of these libraries work very well with each other which would allow us to have clean data that can easily be analyzed due to ability of easily carrying out mathematical computaions and discovering relationships graphically. We explored the relationship between our data using scatter plots, box plots, and the characteristics of the dat and reached the conculstion that the virginica speicies has the largest sepal length, petal length and width. The setosa has the largest sepal width but the smallest sepal length, petal length and width. While the veriscolor species measurements lay in between those maximum and minimum values of the virginica and setosa species. We carried out our analysis using the KNN classification method. The KNN classification  works by the model calculating the numerical distance between the unknown iris and each of the 150 known iris and selected the k (neareast) known iris with the smallest distance to the unknown iris. The distance between the k neareast neighbors are added up, and whichever k responses have the smallest aggregate distance to the unknown iris would be used as the predicited response value for the unknown iris. We proceded to split the data into training data and testing data in order to be able to feed it to the machine. We also carried out a 70-30 split in order to make sure that we do not over-feed the machine with data so that it does not carry our it's predicitions too specifially based off our training data. Then we to fit the model with data which also known as \"model training\". This is the step in which the model learns the relationship between the features and the response. We will use the 'fit' command and pass it two object: feature matrix $X$ and the response matrix $y$. The final step was to import the measurements for an unknown iris and asking the fitted model to predict the iris species based on what it has learned in the previous step. We need to keep in mind that 0 represents setosa, 1 represents versicolor, and 2 represetns virginica. We carried the analysis using the KNN classification using k=1 and k=5 and learned that using a reasonably higher value of k will give us a more accurate prediction. Finally we tested the precision, recall, and f1 score using the confusion matrix which is built into sci-kit learn. We saw that our predictions are 100% accurate using a value of k=5 and therefore conclude our analysis. This project has been my favourite by far because data analysis is exactly what I am going to be doing as an acturial scientist. \n",
    "\n",
    "### Works cited:\n",
    "\n",
    "1. https://en.wikipedia.org/wiki/Big_data\n",
    "2. https://en.wikipedia.org/wiki/Data_analysis\n",
    "3. https://www.sas.com/en_us/insights/analytics/big-data-analytics.html\n",
    "4. https://www.getsmarter.com/blog/career-advice/data-analysis-important-business/\n",
    "5. https://en.wikipedia.org/wiki/Iris_(plant)\n",
    "6. https://sites.berry.edu/cborer/inventory/iris/\n",
    "7. https://en.wikipedia.org/wiki/Iris_flower_data_set\n",
    "8. https://en.wikipedia.org/wiki/Machine_learning\n",
    "9. https://en.wikipedia.org/wiki/K-nearest_neighbors_algorithm\n",
    "10. https://www.analyticsvidhya.com/blog/2018/03/introduction-k-neighbours-algorithm-clustering/\n",
    "11. https://www.youtube.com/watch?v=UqYde-LULfs\n",
    "12. https://www.dataschool.io/simple-guide-to-confusion-matrix-terminology/\n",
    "\n"
   ]
  },
  {
   "cell_type": "code",
   "execution_count": null,
   "metadata": {
    "collapsed": true
   },
   "outputs": [],
   "source": []
  }
 ],
 "metadata": {
  "kernelspec": {
   "display_name": "Python 3",
   "language": "python",
   "name": "python3"
  },
  "language_info": {
   "codemirror_mode": {
    "name": "ipython",
    "version": 3
   },
   "file_extension": ".py",
   "mimetype": "text/x-python",
   "name": "python",
   "nbconvert_exporter": "python",
   "pygments_lexer": "ipython3",
   "version": "3.8.3"
  }
 },
 "nbformat": 4,
 "nbformat_minor": 2
}
